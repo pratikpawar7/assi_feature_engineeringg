{
 "cells": [
  {
   "cell_type": "code",
   "execution_count": null,
   "id": "375e2fc4-965d-43b7-8366-7eeddb979d14",
   "metadata": {},
   "outputs": [],
   "source": [
    "'''\n",
    "Q1. Pearson correlation coefficient is a measure of the linear relationship between two variables. Suppose\n",
    "you have collected data on the amount of time students spend studying for an exam and their final exam\n",
    "scores. Calculate the Pearson correlation coefficient between these two variables and interpret the result.\n",
    "'''\n",
    "To calculate the Pearson correlation coefficient between the amount of time students spend studying for an exam and their final exam scores, you would follow these steps:\n",
    "\n",
    "Compute the mean of the study time and the final exam scores.\n",
    "Calculate the deviations from the mean for both variables.\n",
    "Multiply the deviations of study time and exam scores for each student, and sum these products.\n",
    "Calculate the standard deviation of study time and exam scores, and multiply them together."
   ]
  },
  {
   "cell_type": "code",
   "execution_count": null,
   "id": "48e67a37-643c-4325-933d-9ffdf2287bb9",
   "metadata": {},
   "outputs": [],
   "source": [
    "'''\n",
    "Q2.To calculate the Pearson correlation coefficient between the amount of time students spend studying for an exam and their final exam scores, you would follow these steps:\n",
    "\n",
    "Compute the mean of the study time and the final exam scores.\n",
    "Calculate the deviations from the mean for both variables.\n",
    "Multiply the deviations of study time and exam scores for each student, and sum these products.\n",
    "Calculate the standard deviation of study time and exam scores, and multiply them together.\n",
    "'''\n",
    "To calculate Spearman's rank correlation between the amount of sleep individuals get each night and their job satisfaction level:\n",
    "\n",
    "Rank the data for both variables independently.\n",
    "Calculate the difference in ranks for each pair of data points.\n",
    "Square these differences and sum them.\n",
    "Use the formula for Spearman's rank correlation coefficient: \n",
    "\n",
    "n is the number of data points"
   ]
  },
  {
   "cell_type": "code",
   "execution_count": null,
   "id": "b9ec68e7-b44d-4815-83cd-fa1943bb24ed",
   "metadata": {},
   "outputs": [],
   "source": [
    "'''\n",
    "Q3. Suppose you are conducting a study to examine the relationship between the number of hours of\n",
    "exercise per week and body mass index (BMI) in a sample of adults. You collected data on both variables\n",
    "for 50 participants. Calculate the Pearson correlation coefficient and the Spearman's rank correlation\n",
    "between these two variables and compare the results.\n",
    "'''\n",
    "Pearson correlation assesses the linear relationship between variables assuming they are normally distributed.\n",
    "Spearman's rank correlation assesses the monotonic relationship between variables,\n",
    "making it more robust to outliers and non-linear relationships.\n",
    "Interpret the results based on both coefficients to understand whether the\n",
    "relationship between exercise hours and BMI is linear or monotonic, and \n",
    "how strong the association is in your sample of adults."
   ]
  },
  {
   "cell_type": "code",
   "execution_count": null,
   "id": "d8fd2157-1f1d-4470-a9f9-2dcb199be663",
   "metadata": {},
   "outputs": [],
   "source": [
    "'''\n",
    "Q4. A researcher is interested in examining the relationship between the number of hours individuals\n",
    "spend watching television per day and their level of physical activity. The researcher collected data on\n",
    "both variables from a sample of 50 participants. Calculate the Pearson correlation coefficient between\n",
    "these two variables.\n",
    "'''\n",
    "he Pearson correlation coefficient measures the strength and direction of the linear relationship between two variables. To calculate it:\n",
    "\n",
    "Compute the means of TV watching hours and physical activity levels.\n",
    "Calculate deviations from the mean for both variables.\n",
    "Multiply deviations for each participant and sum these products.\n",
    "Divide by the product of the standard deviations of both variables.\n",
    "Interpretation:\n",
    "\n",
    "𝑟=1\n",
    "r=1: Perfect positive linear relationship.\n",
    "𝑟=−1\n",
    "r=−1: Perfect negative linear relationship.\n",
    "𝑟=0\n",
    "r=0: No linear relationship.\n"
   ]
  },
  {
   "cell_type": "code",
   "execution_count": null,
   "id": "d000cc5c-d2bb-4bd0-8f84-9957c4338e35",
   "metadata": {},
   "outputs": [],
   "source": [
    "'''\n",
    "Q5. A survey was conducted to examine the relationship between age and preference for a particular\n",
    "brand of soft drink. The survey results are shown below:\n",
    "\n",
    "\n",
    "Age(Years)\n",
    "25 Coke\n",
    "42 Pepsi\n",
    "37\n",
    "19\n",
    "31\n",
    "28\n",
    "\n",
    "Mountain dew\n",
    "Coke\n",
    "Pepsi\n",
    "Coke\n",
    "'''\n",
    "It seems like you've listed some survey responses regarding age and preference\n",
    "for soft drink brands. To analyze the relationship between age and brand preference:\n",
    "\n",
    "Organize the data: Group ages with their corresponding brand preferences.\n",
    "Count frequencies: Determine how many respondents prefer each brand within different age groups.\n",
    "Analyze patterns: Look for any trends or correlations between age and brand preference.\n",
    "For a deeper analysis, you could calculate percentages or proportions within age groups\n",
    "to understand the distribution of brand preferences across different ages."
   ]
  },
  {
   "cell_type": "code",
   "execution_count": null,
   "id": "27d453bd-24d3-434c-8475-9967885f7296",
   "metadata": {},
   "outputs": [],
   "source": [
    "'''\n",
    "Q6. A company is interested in examining the relationship between the number of sales calls made per day\n",
    "and the number of sales made per week. The company collected data on both variables from a sample of\n",
    "30 sales representatives. Calculate the Pearson correlation coefficient between these two variables.\n",
    "'''\n",
    "\n",
    "To calculate the Pearson correlation coefficient between the number of sales calls made per day and the number of sales made per week for 30 sales representatives:\n",
    "\n",
    "Compute the mean of sales calls per day (X) and sales made per week (Y).\n",
    "Calculate the deviations from the mean for both variables (X and Y).\n",
    "Multiply the deviations of X and Y for each sales representative, and sum these products.\n",
    "Calculate the standard deviation of X and Y, and multiply them together.\n",
    "Divide the sum of products by the product of standard deviations to get the Pearson correlation coefficient r.\n",
    "Interpretation:\n",
    "\n",
    "r ranges from -1 to +1.\n",
    "𝑟=1\n",
    "r=1 indicates a perfect positive linear relationship (more sales calls correlate perfectly with more sales made).\n",
    "𝑟=−1\n",
    "r=−1 indicates a perfect negative linear relationship (more sales calls correlate perfectly with fewer sales made).\n",
    "𝑟=0\n",
    "r=0 indicates no linear relationship between the variables."
   ]
  },
  {
   "cell_type": "code",
   "execution_count": null,
   "id": "0e4989e2-7f01-41b7-acdf-930932beb42f",
   "metadata": {},
   "outputs": [],
   "source": []
  },
  {
   "cell_type": "code",
   "execution_count": null,
   "id": "2334ab8a-6fc7-4c2c-b796-fb7b1a7f903c",
   "metadata": {},
   "outputs": [],
   "source": []
  }
 ],
 "metadata": {
  "kernelspec": {
   "display_name": "Python 3 (ipykernel)",
   "language": "python",
   "name": "python3"
  },
  "language_info": {
   "codemirror_mode": {
    "name": "ipython",
    "version": 3
   },
   "file_extension": ".py",
   "mimetype": "text/x-python",
   "name": "python",
   "nbconvert_exporter": "python",
   "pygments_lexer": "ipython3",
   "version": "3.10.8"
  }
 },
 "nbformat": 4,
 "nbformat_minor": 5
}
